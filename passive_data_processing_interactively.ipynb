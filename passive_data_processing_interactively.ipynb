{
 "cells": [
  {
   "cell_type": "markdown",
   "metadata": {},
   "source": [
    "#### Path Variable Imports"
   ]
  },
  {
   "cell_type": "code",
   "execution_count": 76,
   "metadata": {},
   "outputs": [],
   "source": [
    "from paths import *"
   ]
  },
  {
   "cell_type": "markdown",
   "metadata": {},
   "source": [
    "#### Function Definition Space"
   ]
  },
  {
   "cell_type": "markdown",
   "metadata": {},
   "source": [
    "##### General Stats Functions Imports"
   ]
  },
  {
   "cell_type": "code",
   "execution_count": null,
   "metadata": {},
   "outputs": [],
   "source": [
    "from stats import get_compressed_features_info, get_features_info, get_fitbit_streams_union, get_passive_features_union, get_passive_features_user_count, get_users_dist_over_passive_fitbit, get_fitbit_streams_user_count, get_passive_users_days_available_per_stream"
   ]
  },
  {
   "cell_type": "markdown",
   "metadata": {},
   "source": [
    "##### Processing Functions Imports"
   ]
  },
  {
   "cell_type": "code",
   "execution_count": 78,
   "metadata": {},
   "outputs": [],
   "source": [
    "from processing import remove_duplicates, resolve_inconsistencies, conceptual_aggregate, split_conceptual_aggregate_for_users"
   ]
  },
  {
   "cell_type": "markdown",
   "metadata": {},
   "source": [
    "#### Function Calling Space"
   ]
  },
  {
   "cell_type": "markdown",
   "metadata": {},
   "source": [
    "##### Base Stats Generation"
   ]
  },
  {
   "cell_type": "markdown",
   "metadata": {},
   "source": [
    "**Features Info**"
   ]
  },
  {
   "cell_type": "code",
   "execution_count": 81,
   "metadata": {},
   "outputs": [
    {
     "name": "stdout",
     "output_type": "stream",
     "text": [
      "Skipping fitbit stream : menstrual_health_birth_control_allusers.csv data due to unavailable rows\n",
      "Skipping fitbit stream : menstrual_health_cycles_allusers.csv data due to unavailable rows\n",
      "Skipping fitbit stream : menstrual_health_symptoms_allusers.csv data due to unavailable rows\n",
      "Skipping fitbit stream : menstrual_health_settings_allusers.csv data due to unavailable rows\n",
      "Skipping as fitbit stream .DS_Store is not in .csv\n"
     ]
    },
    {
     "data": {
      "text/html": [
       "<div>\n",
       "<style scoped>\n",
       "    .dataframe tbody tr th:only-of-type {\n",
       "        vertical-align: middle;\n",
       "    }\n",
       "\n",
       "    .dataframe tbody tr th {\n",
       "        vertical-align: top;\n",
       "    }\n",
       "\n",
       "    .dataframe thead th {\n",
       "        text-align: right;\n",
       "    }\n",
       "</style>\n",
       "<table border=\"1\" class=\"dataframe\">\n",
       "  <thead>\n",
       "    <tr style=\"text-align: right;\">\n",
       "      <th></th>\n",
       "      <th>feature</th>\n",
       "      <th>datastream</th>\n",
       "      <th>passive?</th>\n",
       "      <th>aggregate_by</th>\n",
       "      <th>summary_stats</th>\n",
       "      <th>data_type</th>\n",
       "    </tr>\n",
       "  </thead>\n",
       "  <tbody>\n",
       "    <tr>\n",
       "      <th>0</th>\n",
       "      <td>passive_value</td>\n",
       "      <td>distance</td>\n",
       "      <td>NaN</td>\n",
       "      <td>sum</td>\n",
       "      <td>count/min/max/quantiles/std/mean/cv/skewness/k...</td>\n",
       "      <td>num:num</td>\n",
       "    </tr>\n",
       "    <tr>\n",
       "      <th>1</th>\n",
       "      <td>passive_unit</td>\n",
       "      <td>distance</td>\n",
       "      <td>NaN</td>\n",
       "      <td>unique</td>\n",
       "      <td>count/unique/top/freq</td>\n",
       "      <td>str:obj</td>\n",
       "    </tr>\n",
       "    <tr>\n",
       "      <th>2</th>\n",
       "      <td>passive_value</td>\n",
       "      <td>stairs</td>\n",
       "      <td>NaN</td>\n",
       "      <td>sum</td>\n",
       "      <td>count/min/max/quantiles/std/mean/cv/skewness/k...</td>\n",
       "      <td>num:num</td>\n",
       "    </tr>\n",
       "    <tr>\n",
       "      <th>3</th>\n",
       "      <td>passive_value</td>\n",
       "      <td>steps</td>\n",
       "      <td>NaN</td>\n",
       "      <td>sum</td>\n",
       "      <td>count/min/max/quantiles/std/mean/cv/skewness/k...</td>\n",
       "      <td>num:num</td>\n",
       "    </tr>\n",
       "    <tr>\n",
       "      <th>4</th>\n",
       "      <td>passive_unit</td>\n",
       "      <td>steps</td>\n",
       "      <td>NaN</td>\n",
       "      <td>unique</td>\n",
       "      <td>count/unique/top/freq</td>\n",
       "      <td>str:obj</td>\n",
       "    </tr>\n",
       "    <tr>\n",
       "      <th>...</th>\n",
       "      <td>...</td>\n",
       "      <td>...</td>\n",
       "      <td>...</td>\n",
       "      <td>...</td>\n",
       "      <td>...</td>\n",
       "      <td>...</td>\n",
       "    </tr>\n",
       "    <tr>\n",
       "      <th>266</th>\n",
       "      <td>fitbit_poolLength</td>\n",
       "      <td>exercise</td>\n",
       "      <td>NaN</td>\n",
       "      <td>needs inspection</td>\n",
       "      <td>needs inspection</td>\n",
       "      <td>unknown:unknown</td>\n",
       "    </tr>\n",
       "    <tr>\n",
       "      <th>267</th>\n",
       "      <td>fitbit_poolLengthUnit</td>\n",
       "      <td>exercise</td>\n",
       "      <td>NaN</td>\n",
       "      <td>needs inspection</td>\n",
       "      <td>needs inspection</td>\n",
       "      <td>unknown:unknown</td>\n",
       "    </tr>\n",
       "    <tr>\n",
       "      <th>268</th>\n",
       "      <td>fitbit_user_id</td>\n",
       "      <td>altitude</td>\n",
       "      <td>NaN</td>\n",
       "      <td>needs inspection</td>\n",
       "      <td>needs inspection</td>\n",
       "      <td>unknown:unknown</td>\n",
       "    </tr>\n",
       "    <tr>\n",
       "      <th>269</th>\n",
       "      <td>fitbit_dateTime</td>\n",
       "      <td>altitude</td>\n",
       "      <td>NaN</td>\n",
       "      <td>needs inspection</td>\n",
       "      <td>needs inspection</td>\n",
       "      <td>unknown:unknown</td>\n",
       "    </tr>\n",
       "    <tr>\n",
       "      <th>270</th>\n",
       "      <td>fitbit_value</td>\n",
       "      <td>altitude</td>\n",
       "      <td>NaN</td>\n",
       "      <td>sum</td>\n",
       "      <td>count/min/max/quantiles/std/mean/cv/skewness/k...</td>\n",
       "      <td>num:num</td>\n",
       "    </tr>\n",
       "  </tbody>\n",
       "</table>\n",
       "<p>271 rows × 6 columns</p>\n",
       "</div>"
      ],
      "text/plain": [
       "                   feature datastream  passive?      aggregate_by  \\\n",
       "0            passive_value   distance       NaN               sum   \n",
       "1             passive_unit   distance       NaN            unique   \n",
       "2            passive_value     stairs       NaN               sum   \n",
       "3            passive_value      steps       NaN               sum   \n",
       "4             passive_unit      steps       NaN            unique   \n",
       "..                     ...        ...       ...               ...   \n",
       "266      fitbit_poolLength   exercise       NaN  needs inspection   \n",
       "267  fitbit_poolLengthUnit   exercise       NaN  needs inspection   \n",
       "268         fitbit_user_id   altitude       NaN  needs inspection   \n",
       "269        fitbit_dateTime   altitude       NaN  needs inspection   \n",
       "270           fitbit_value   altitude       NaN               sum   \n",
       "\n",
       "                                         summary_stats        data_type  \n",
       "0    count/min/max/quantiles/std/mean/cv/skewness/k...          num:num  \n",
       "1                                count/unique/top/freq          str:obj  \n",
       "2    count/min/max/quantiles/std/mean/cv/skewness/k...          num:num  \n",
       "3    count/min/max/quantiles/std/mean/cv/skewness/k...          num:num  \n",
       "4                                count/unique/top/freq          str:obj  \n",
       "..                                                 ...              ...  \n",
       "266                                   needs inspection  unknown:unknown  \n",
       "267                                   needs inspection  unknown:unknown  \n",
       "268                                   needs inspection  unknown:unknown  \n",
       "269                                   needs inspection  unknown:unknown  \n",
       "270  count/min/max/quantiles/std/mean/cv/skewness/k...          num:num  \n",
       "\n",
       "[271 rows x 6 columns]"
      ]
     },
     "execution_count": 81,
     "metadata": {},
     "output_type": "execute_result"
    }
   ],
   "source": [
    "fi = get_features_info(redo=True)\n",
    "fi"
   ]
  },
  {
   "cell_type": "code",
   "execution_count": 105,
   "metadata": {},
   "outputs": [
    {
     "name": "stdout",
     "output_type": "stream",
     "text": [
      "Before dropping units length : 271\n",
      "After dropping units length : 222\n"
     ]
    },
    {
     "data": {
      "text/html": [
       "<div>\n",
       "<style scoped>\n",
       "    .dataframe tbody tr th:only-of-type {\n",
       "        vertical-align: middle;\n",
       "    }\n",
       "\n",
       "    .dataframe tbody tr th {\n",
       "        vertical-align: top;\n",
       "    }\n",
       "\n",
       "    .dataframe thead th {\n",
       "        text-align: right;\n",
       "    }\n",
       "</style>\n",
       "<table border=\"1\" class=\"dataframe\">\n",
       "  <thead>\n",
       "    <tr style=\"text-align: right;\">\n",
       "      <th></th>\n",
       "      <th>feature</th>\n",
       "      <th>datastream</th>\n",
       "      <th>passive?</th>\n",
       "      <th>aggregate_by</th>\n",
       "      <th>summary_stats</th>\n",
       "      <th>data_type</th>\n",
       "    </tr>\n",
       "  </thead>\n",
       "  <tbody>\n",
       "    <tr>\n",
       "      <th>0</th>\n",
       "      <td>passive_value</td>\n",
       "      <td>distance</td>\n",
       "      <td>NaN</td>\n",
       "      <td>sum</td>\n",
       "      <td>count/min/max/quantiles/std/mean/cv/skewness/k...</td>\n",
       "      <td>num:num</td>\n",
       "    </tr>\n",
       "    <tr>\n",
       "      <th>1</th>\n",
       "      <td>passive_value</td>\n",
       "      <td>stairs</td>\n",
       "      <td>NaN</td>\n",
       "      <td>sum</td>\n",
       "      <td>count/min/max/quantiles/std/mean/cv/skewness/k...</td>\n",
       "      <td>num:num</td>\n",
       "    </tr>\n",
       "    <tr>\n",
       "      <th>2</th>\n",
       "      <td>passive_value</td>\n",
       "      <td>steps</td>\n",
       "      <td>NaN</td>\n",
       "      <td>sum</td>\n",
       "      <td>count/min/max/quantiles/std/mean/cv/skewness/k...</td>\n",
       "      <td>num:num</td>\n",
       "    </tr>\n",
       "    <tr>\n",
       "      <th>3</th>\n",
       "      <td>passive_value</td>\n",
       "      <td>calories</td>\n",
       "      <td>NaN</td>\n",
       "      <td>sum</td>\n",
       "      <td>count/min/max/quantiles/std/mean/cv/skewness/k...</td>\n",
       "      <td>num:num</td>\n",
       "    </tr>\n",
       "    <tr>\n",
       "      <th>4</th>\n",
       "      <td>passive_value</td>\n",
       "      <td>activity</td>\n",
       "      <td>NaN</td>\n",
       "      <td>unique</td>\n",
       "      <td>count/unique/top/freq</td>\n",
       "      <td>str:obj</td>\n",
       "    </tr>\n",
       "    <tr>\n",
       "      <th>...</th>\n",
       "      <td>...</td>\n",
       "      <td>...</td>\n",
       "      <td>...</td>\n",
       "      <td>...</td>\n",
       "      <td>...</td>\n",
       "      <td>...</td>\n",
       "    </tr>\n",
       "    <tr>\n",
       "      <th>217</th>\n",
       "      <td>fitbit_swimLengths</td>\n",
       "      <td>exercise</td>\n",
       "      <td>NaN</td>\n",
       "      <td>needs inspection</td>\n",
       "      <td>needs inspection</td>\n",
       "      <td>unknown:unknown</td>\n",
       "    </tr>\n",
       "    <tr>\n",
       "      <th>218</th>\n",
       "      <td>fitbit_poolLength</td>\n",
       "      <td>exercise</td>\n",
       "      <td>NaN</td>\n",
       "      <td>needs inspection</td>\n",
       "      <td>needs inspection</td>\n",
       "      <td>unknown:unknown</td>\n",
       "    </tr>\n",
       "    <tr>\n",
       "      <th>219</th>\n",
       "      <td>fitbit_poolLengthUnit</td>\n",
       "      <td>exercise</td>\n",
       "      <td>NaN</td>\n",
       "      <td>needs inspection</td>\n",
       "      <td>needs inspection</td>\n",
       "      <td>unknown:unknown</td>\n",
       "    </tr>\n",
       "    <tr>\n",
       "      <th>220</th>\n",
       "      <td>fitbit_user_id</td>\n",
       "      <td>altitude</td>\n",
       "      <td>NaN</td>\n",
       "      <td>needs inspection</td>\n",
       "      <td>needs inspection</td>\n",
       "      <td>unknown:unknown</td>\n",
       "    </tr>\n",
       "    <tr>\n",
       "      <th>221</th>\n",
       "      <td>fitbit_value</td>\n",
       "      <td>altitude</td>\n",
       "      <td>NaN</td>\n",
       "      <td>sum</td>\n",
       "      <td>count/min/max/quantiles/std/mean/cv/skewness/k...</td>\n",
       "      <td>num:num</td>\n",
       "    </tr>\n",
       "  </tbody>\n",
       "</table>\n",
       "<p>222 rows × 6 columns</p>\n",
       "</div>"
      ],
      "text/plain": [
       "                   feature datastream  passive?      aggregate_by  \\\n",
       "0            passive_value   distance       NaN               sum   \n",
       "1            passive_value     stairs       NaN               sum   \n",
       "2            passive_value      steps       NaN               sum   \n",
       "3            passive_value   calories       NaN               sum   \n",
       "4            passive_value   activity       NaN            unique   \n",
       "..                     ...        ...       ...               ...   \n",
       "217     fitbit_swimLengths   exercise       NaN  needs inspection   \n",
       "218      fitbit_poolLength   exercise       NaN  needs inspection   \n",
       "219  fitbit_poolLengthUnit   exercise       NaN  needs inspection   \n",
       "220         fitbit_user_id   altitude       NaN  needs inspection   \n",
       "221           fitbit_value   altitude       NaN               sum   \n",
       "\n",
       "                                         summary_stats        data_type  \n",
       "0    count/min/max/quantiles/std/mean/cv/skewness/k...          num:num  \n",
       "1    count/min/max/quantiles/std/mean/cv/skewness/k...          num:num  \n",
       "2    count/min/max/quantiles/std/mean/cv/skewness/k...          num:num  \n",
       "3    count/min/max/quantiles/std/mean/cv/skewness/k...          num:num  \n",
       "4                                count/unique/top/freq          str:obj  \n",
       "..                                                 ...              ...  \n",
       "217                                   needs inspection  unknown:unknown  \n",
       "218                                   needs inspection  unknown:unknown  \n",
       "219                                   needs inspection  unknown:unknown  \n",
       "220                                   needs inspection  unknown:unknown  \n",
       "221  count/min/max/quantiles/std/mean/cv/skewness/k...          num:num  \n",
       "\n",
       "[222 rows x 6 columns]"
      ]
     },
     "execution_count": 105,
     "metadata": {},
     "output_type": "execute_result"
    }
   ],
   "source": [
    "cfi = get_compressed_features_info(redo=True)\n",
    "cfi"
   ]
  },
  {
   "cell_type": "markdown",
   "metadata": {},
   "source": [
    "**Users Distribution Over Passive and Fitbit**"
   ]
  },
  {
   "cell_type": "code",
   "execution_count": 12,
   "metadata": {},
   "outputs": [
    {
     "data": {
      "text/html": [
       "<div>\n",
       "<style scoped>\n",
       "    .dataframe tbody tr th:only-of-type {\n",
       "        vertical-align: middle;\n",
       "    }\n",
       "\n",
       "    .dataframe tbody tr th {\n",
       "        vertical-align: top;\n",
       "    }\n",
       "\n",
       "    .dataframe thead th {\n",
       "        text-align: right;\n",
       "    }\n",
       "</style>\n",
       "<table border=\"1\" class=\"dataframe\">\n",
       "  <thead>\n",
       "    <tr style=\"text-align: right;\">\n",
       "      <th></th>\n",
       "      <th>Users</th>\n",
       "      <th>Passive</th>\n",
       "      <th>Fitbit</th>\n",
       "    </tr>\n",
       "  </thead>\n",
       "  <tbody>\n",
       "    <tr>\n",
       "      <th>0</th>\n",
       "      <td>BBoPRnvKOpASUOAWfXWb</td>\n",
       "      <td>True</td>\n",
       "      <td>True</td>\n",
       "    </tr>\n",
       "    <tr>\n",
       "      <th>1</th>\n",
       "      <td>WfejbRTXGCEnD2yyvAwj</td>\n",
       "      <td>True</td>\n",
       "      <td>False</td>\n",
       "    </tr>\n",
       "    <tr>\n",
       "      <th>2</th>\n",
       "      <td>A7NaCEpOxDqEt1eyUyPV</td>\n",
       "      <td>True</td>\n",
       "      <td>False</td>\n",
       "    </tr>\n",
       "    <tr>\n",
       "      <th>3</th>\n",
       "      <td>VGRzHPzx63a8FGQIdht0</td>\n",
       "      <td>True</td>\n",
       "      <td>True</td>\n",
       "    </tr>\n",
       "    <tr>\n",
       "      <th>4</th>\n",
       "      <td>8ThtiZo7SEx4KyuQUopN</td>\n",
       "      <td>False</td>\n",
       "      <td>True</td>\n",
       "    </tr>\n",
       "    <tr>\n",
       "      <th>...</th>\n",
       "      <td>...</td>\n",
       "      <td>...</td>\n",
       "      <td>...</td>\n",
       "    </tr>\n",
       "    <tr>\n",
       "      <th>78</th>\n",
       "      <td>xsjzGlisUYKBa6B707e2</td>\n",
       "      <td>True</td>\n",
       "      <td>False</td>\n",
       "    </tr>\n",
       "    <tr>\n",
       "      <th>79</th>\n",
       "      <td>bXabew0JvOOtpWvTM8Hr</td>\n",
       "      <td>True</td>\n",
       "      <td>False</td>\n",
       "    </tr>\n",
       "    <tr>\n",
       "      <th>80</th>\n",
       "      <td>hQhz8xOpIn8gAqN9pYO7</td>\n",
       "      <td>True</td>\n",
       "      <td>False</td>\n",
       "    </tr>\n",
       "    <tr>\n",
       "      <th>81</th>\n",
       "      <td>q8SyFGBx9qboaNnVGK7F</td>\n",
       "      <td>True</td>\n",
       "      <td>False</td>\n",
       "    </tr>\n",
       "    <tr>\n",
       "      <th>82</th>\n",
       "      <td>Gbaix4pxcoEmb8snt7zc</td>\n",
       "      <td>True</td>\n",
       "      <td>False</td>\n",
       "    </tr>\n",
       "  </tbody>\n",
       "</table>\n",
       "<p>83 rows × 3 columns</p>\n",
       "</div>"
      ],
      "text/plain": [
       "                   Users  Passive  Fitbit\n",
       "0   BBoPRnvKOpASUOAWfXWb     True    True\n",
       "1   WfejbRTXGCEnD2yyvAwj     True   False\n",
       "2   A7NaCEpOxDqEt1eyUyPV     True   False\n",
       "3   VGRzHPzx63a8FGQIdht0     True    True\n",
       "4   8ThtiZo7SEx4KyuQUopN    False    True\n",
       "..                   ...      ...     ...\n",
       "78  xsjzGlisUYKBa6B707e2     True   False\n",
       "79  bXabew0JvOOtpWvTM8Hr     True   False\n",
       "80  hQhz8xOpIn8gAqN9pYO7     True   False\n",
       "81  q8SyFGBx9qboaNnVGK7F     True   False\n",
       "82  Gbaix4pxcoEmb8snt7zc     True   False\n",
       "\n",
       "[83 rows x 3 columns]"
      ]
     },
     "execution_count": 12,
     "metadata": {},
     "output_type": "execute_result"
    }
   ],
   "source": [
    "udopf = get_users_dist_over_passive_fitbit(redo=False)\n",
    "udopf"
   ]
  },
  {
   "cell_type": "markdown",
   "metadata": {},
   "source": [
    "**Passive Features Union**"
   ]
  },
  {
   "cell_type": "code",
   "execution_count": 170,
   "metadata": {},
   "outputs": [
    {
     "data": {
      "text/html": [
       "<div>\n",
       "<style scoped>\n",
       "    .dataframe tbody tr th:only-of-type {\n",
       "        vertical-align: middle;\n",
       "    }\n",
       "\n",
       "    .dataframe tbody tr th {\n",
       "        vertical-align: top;\n",
       "    }\n",
       "\n",
       "    .dataframe thead th {\n",
       "        text-align: right;\n",
       "    }\n",
       "</style>\n",
       "<table border=\"1\" class=\"dataframe\">\n",
       "  <thead>\n",
       "    <tr style=\"text-align: right;\">\n",
       "      <th></th>\n",
       "      <th>feature</th>\n",
       "      <th>user</th>\n",
       "    </tr>\n",
       "  </thead>\n",
       "  <tbody>\n",
       "    <tr>\n",
       "      <th>0</th>\n",
       "      <td>distance</td>\n",
       "      <td>0A9w252Lacpn8vckWH3T</td>\n",
       "    </tr>\n",
       "    <tr>\n",
       "      <th>1</th>\n",
       "      <td>distance</td>\n",
       "      <td>5vAwDPW6rzDpjhbEi4ck</td>\n",
       "    </tr>\n",
       "    <tr>\n",
       "      <th>2</th>\n",
       "      <td>distance</td>\n",
       "      <td>8ErXI1RsodAnVVySsO1u</td>\n",
       "    </tr>\n",
       "    <tr>\n",
       "      <th>3</th>\n",
       "      <td>distance</td>\n",
       "      <td>9XG8qlLKeoLj8X2t7vob</td>\n",
       "    </tr>\n",
       "    <tr>\n",
       "      <th>4</th>\n",
       "      <td>distance</td>\n",
       "      <td>A7NaCEpOxDqEt1eyUyPV</td>\n",
       "    </tr>\n",
       "    <tr>\n",
       "      <th>...</th>\n",
       "      <td>...</td>\n",
       "      <td>...</td>\n",
       "    </tr>\n",
       "    <tr>\n",
       "      <th>479</th>\n",
       "      <td>apple_exercise_time</td>\n",
       "      <td>tgqs3Iz2m9L233pBNYah</td>\n",
       "    </tr>\n",
       "    <tr>\n",
       "      <th>480</th>\n",
       "      <td>apple_exercise_time</td>\n",
       "      <td>uRNavW7VuvaFJzZZS7Zd</td>\n",
       "    </tr>\n",
       "    <tr>\n",
       "      <th>481</th>\n",
       "      <td>apple_exercise_time</td>\n",
       "      <td>vVy4BHAhcKJwSc3WkxEg</td>\n",
       "    </tr>\n",
       "    <tr>\n",
       "      <th>482</th>\n",
       "      <td>apple_exercise_time</td>\n",
       "      <td>xsjzGlisUYKBa6B707e2</td>\n",
       "    </tr>\n",
       "    <tr>\n",
       "      <th>483</th>\n",
       "      <td>apple_exercise_time</td>\n",
       "      <td>zWzJmXGYukZCnGK2E5zC</td>\n",
       "    </tr>\n",
       "  </tbody>\n",
       "</table>\n",
       "<p>484 rows × 2 columns</p>\n",
       "</div>"
      ],
      "text/plain": [
       "                 feature                  user\n",
       "0               distance  0A9w252Lacpn8vckWH3T\n",
       "1               distance  5vAwDPW6rzDpjhbEi4ck\n",
       "2               distance  8ErXI1RsodAnVVySsO1u\n",
       "3               distance  9XG8qlLKeoLj8X2t7vob\n",
       "4               distance  A7NaCEpOxDqEt1eyUyPV\n",
       "..                   ...                   ...\n",
       "479  apple_exercise_time  tgqs3Iz2m9L233pBNYah\n",
       "480  apple_exercise_time  uRNavW7VuvaFJzZZS7Zd\n",
       "481  apple_exercise_time  vVy4BHAhcKJwSc3WkxEg\n",
       "482  apple_exercise_time  xsjzGlisUYKBa6B707e2\n",
       "483  apple_exercise_time  zWzJmXGYukZCnGK2E5zC\n",
       "\n",
       "[484 rows x 2 columns]"
      ]
     },
     "execution_count": 170,
     "metadata": {},
     "output_type": "execute_result"
    }
   ],
   "source": [
    "pfu = get_passive_features_union(redo=False)\n",
    "pfu"
   ]
  },
  {
   "cell_type": "markdown",
   "metadata": {},
   "source": [
    "**Passive Features Users Count**"
   ]
  },
  {
   "cell_type": "code",
   "execution_count": 11,
   "metadata": {},
   "outputs": [],
   "source": [
    "pfuc = get_passive_features_user_count(redo=False)\n",
    "pfuc.sort_values(['user_count'], inplace=True)"
   ]
  },
  {
   "cell_type": "code",
   "execution_count": 12,
   "metadata": {},
   "outputs": [
    {
     "data": {
      "text/plain": [
       "<Axes: ylabel='feature'>"
      ]
     },
     "execution_count": 12,
     "metadata": {},
     "output_type": "execute_result"
    },
    {
     "data": {
      "image/png": "[encoded data removed]",
      "text/plain": [
       "<Figure size 640x480 with 1 Axes>"
      ]
     },
     "metadata": {},
     "output_type": "display_data"
    }
   ],
   "source": [
    "pfuc.plot(x='feature', y='user_count', kind='barh')"
   ]
  },
  {
   "cell_type": "markdown",
   "metadata": {},
   "source": [
    "**Passive Users Days Available Per Stream**"
   ]
  },
  {
   "cell_type": "code",
   "execution_count": 24,
   "metadata": {},
   "outputs": [
    {
     "data": {
      "text/html": [
       "<div>\n",
       "<style scoped>\n",
       "    .dataframe tbody tr th:only-of-type {\n",
       "        vertical-align: middle;\n",
       "    }\n",
       "\n",
       "    .dataframe tbody tr th {\n",
       "        vertical-align: top;\n",
       "    }\n",
       "\n",
       "    .dataframe thead th {\n",
       "        text-align: right;\n",
       "    }\n",
       "</style>\n",
       "<table border=\"1\" class=\"dataframe\">\n",
       "  <thead>\n",
       "    <tr style=\"text-align: right;\">\n",
       "      <th></th>\n",
       "      <th>stream</th>\n",
       "      <th>uid</th>\n",
       "      <th>days_available</th>\n",
       "    </tr>\n",
       "  </thead>\n",
       "  <tbody>\n",
       "    <tr>\n",
       "      <th>0</th>\n",
       "      <td>activity</td>\n",
       "      <td>0A9w252Lacpn8vckWH3T</td>\n",
       "      <td>25</td>\n",
       "    </tr>\n",
       "    <tr>\n",
       "      <th>1</th>\n",
       "      <td>activity</td>\n",
       "      <td>9XG8qlLKeoLj8X2t7vob</td>\n",
       "      <td>71</td>\n",
       "    </tr>\n",
       "    <tr>\n",
       "      <th>2</th>\n",
       "      <td>activity</td>\n",
       "      <td>Ad5uNn7tQ3Z5cDB79IbZ</td>\n",
       "      <td>81</td>\n",
       "    </tr>\n",
       "    <tr>\n",
       "      <th>3</th>\n",
       "      <td>activity</td>\n",
       "      <td>C6NPHCZJnZJgH9sIPR7d</td>\n",
       "      <td>8</td>\n",
       "    </tr>\n",
       "    <tr>\n",
       "      <th>4</th>\n",
       "      <td>activity</td>\n",
       "      <td>Doial1tLgTMXylogfuZ4</td>\n",
       "      <td>5</td>\n",
       "    </tr>\n",
       "    <tr>\n",
       "      <th>...</th>\n",
       "      <td>...</td>\n",
       "      <td>...</td>\n",
       "      <td>...</td>\n",
       "    </tr>\n",
       "    <tr>\n",
       "      <th>490</th>\n",
       "      <td>calories</td>\n",
       "      <td>we86ijl9G3kCcqZ8Gnyu</td>\n",
       "      <td>83</td>\n",
       "    </tr>\n",
       "    <tr>\n",
       "      <th>491</th>\n",
       "      <td>calories</td>\n",
       "      <td>xM6BOAfzQmEcWvac071k</td>\n",
       "      <td>84</td>\n",
       "    </tr>\n",
       "    <tr>\n",
       "      <th>492</th>\n",
       "      <td>calories</td>\n",
       "      <td>xsjzGlisUYKBa6B707e2</td>\n",
       "      <td>71</td>\n",
       "    </tr>\n",
       "    <tr>\n",
       "      <th>493</th>\n",
       "      <td>calories</td>\n",
       "      <td>zWzJmXGYukZCnGK2E5zC</td>\n",
       "      <td>44</td>\n",
       "    </tr>\n",
       "    <tr>\n",
       "      <th>494</th>\n",
       "      <td>calories</td>\n",
       "      <td>uid</td>\n",
       "      <td>0</td>\n",
       "    </tr>\n",
       "  </tbody>\n",
       "</table>\n",
       "<p>495 rows × 3 columns</p>\n",
       "</div>"
      ],
      "text/plain": [
       "       stream                   uid  days_available\n",
       "0    activity  0A9w252Lacpn8vckWH3T              25\n",
       "1    activity  9XG8qlLKeoLj8X2t7vob              71\n",
       "2    activity  Ad5uNn7tQ3Z5cDB79IbZ              81\n",
       "3    activity  C6NPHCZJnZJgH9sIPR7d               8\n",
       "4    activity  Doial1tLgTMXylogfuZ4               5\n",
       "..        ...                   ...             ...\n",
       "490  calories  we86ijl9G3kCcqZ8Gnyu              83\n",
       "491  calories  xM6BOAfzQmEcWvac071k              84\n",
       "492  calories  xsjzGlisUYKBa6B707e2              71\n",
       "493  calories  zWzJmXGYukZCnGK2E5zC              44\n",
       "494  calories                   uid               0\n",
       "\n",
       "[495 rows x 3 columns]"
      ]
     },
     "execution_count": 24,
     "metadata": {},
     "output_type": "execute_result"
    }
   ],
   "source": [
    "pudaps = get_passive_users_days_available_per_stream()\n",
    "pudaps"
   ]
  },
  {
   "cell_type": "code",
   "execution_count": 41,
   "metadata": {},
   "outputs": [
    {
     "data": {
      "text/html": [
       "<div>\n",
       "<style scoped>\n",
       "    .dataframe tbody tr th:only-of-type {\n",
       "        vertical-align: middle;\n",
       "    }\n",
       "\n",
       "    .dataframe tbody tr th {\n",
       "        vertical-align: top;\n",
       "    }\n",
       "\n",
       "    .dataframe thead th {\n",
       "        text-align: right;\n",
       "    }\n",
       "</style>\n",
       "<table border=\"1\" class=\"dataframe\">\n",
       "  <thead>\n",
       "    <tr style=\"text-align: right;\">\n",
       "      <th></th>\n",
       "    </tr>\n",
       "  </thead>\n",
       "  <tbody>\n",
       "  </tbody>\n",
       "</table>\n",
       "</div>"
      ],
      "text/plain": [
       "Empty DataFrame\n",
       "Columns: []\n",
       "Index: []"
      ]
     },
     "execution_count": 41,
     "metadata": {},
     "output_type": "execute_result"
    }
   ],
   "source": [
    "def _plot_save(x):\n",
    "    x.sort_values(['days_available']).plot(x='uid', y='days_available', kind='bar', figsize=(20, 12), title=x.loc[x.index[0], 'stream'])\n",
    "    dirr = f\"{x.loc[x.index[0], 'stream']}/\"\n",
    "    os.makedirs(dirr, exist_ok=True)\n",
    "    plt.savefig(dirr+'plot.png')\n",
    "\n",
    "\n",
    "plt.figure(figsize=(100,12))\n",
    "pudaps.groupby(['stream']).apply(_plot_save)"
   ]
  },
  {
   "cell_type": "markdown",
   "metadata": {},
   "source": [
    "**Fitbit Features Union**"
   ]
  },
  {
   "cell_type": "code",
   "execution_count": 5,
   "metadata": {},
   "outputs": [
    {
     "data": {
      "text/html": [
       "<div>\n",
       "<style scoped>\n",
       "    .dataframe tbody tr th:only-of-type {\n",
       "        vertical-align: middle;\n",
       "    }\n",
       "\n",
       "    .dataframe tbody tr th {\n",
       "        vertical-align: top;\n",
       "    }\n",
       "\n",
       "    .dataframe thead th {\n",
       "        text-align: right;\n",
       "    }\n",
       "</style>\n",
       "<table border=\"1\" class=\"dataframe\">\n",
       "  <thead>\n",
       "    <tr style=\"text-align: right;\">\n",
       "      <th></th>\n",
       "      <th>feature</th>\n",
       "      <th>user</th>\n",
       "    </tr>\n",
       "  </thead>\n",
       "  <tbody>\n",
       "    <tr>\n",
       "      <th>0</th>\n",
       "      <td>body</td>\n",
       "      <td>5vAwDPW6rzDpjhbEi4ck</td>\n",
       "    </tr>\n",
       "    <tr>\n",
       "      <th>1</th>\n",
       "      <td>body</td>\n",
       "      <td>8ThtiZo7SEx4KyuQUopN</td>\n",
       "    </tr>\n",
       "    <tr>\n",
       "      <th>2</th>\n",
       "      <td>body</td>\n",
       "      <td>9SRoPuEol0m1G600xf1r</td>\n",
       "    </tr>\n",
       "    <tr>\n",
       "      <th>3</th>\n",
       "      <td>body</td>\n",
       "      <td>9hOZREUbPNvp00NEUcFh</td>\n",
       "    </tr>\n",
       "    <tr>\n",
       "      <th>4</th>\n",
       "      <td>body</td>\n",
       "      <td>Ad5uNn7tQ3Z5cDB79IbZ</td>\n",
       "    </tr>\n",
       "    <tr>\n",
       "      <th>...</th>\n",
       "      <td>...</td>\n",
       "      <td>...</td>\n",
       "    </tr>\n",
       "    <tr>\n",
       "      <th>331</th>\n",
       "      <td>altitude</td>\n",
       "      <td>WKl6PdTFzLuA4IvfhfOl</td>\n",
       "    </tr>\n",
       "    <tr>\n",
       "      <th>332</th>\n",
       "      <td>altitude</td>\n",
       "      <td>ezT3IaLSu9cvTM9dYzg6</td>\n",
       "    </tr>\n",
       "    <tr>\n",
       "      <th>333</th>\n",
       "      <td>altitude</td>\n",
       "      <td>hyNOFBWeewHuT3BZ9kbh</td>\n",
       "    </tr>\n",
       "    <tr>\n",
       "      <th>334</th>\n",
       "      <td>altitude</td>\n",
       "      <td>pnLcxpjoDJGpvUAh0My8</td>\n",
       "    </tr>\n",
       "    <tr>\n",
       "      <th>335</th>\n",
       "      <td>altitude</td>\n",
       "      <td>qfrqFIyaA9dqj6zuD2RE</td>\n",
       "    </tr>\n",
       "  </tbody>\n",
       "</table>\n",
       "<p>336 rows × 2 columns</p>\n",
       "</div>"
      ],
      "text/plain": [
       "      feature                  user\n",
       "0        body  5vAwDPW6rzDpjhbEi4ck\n",
       "1        body  8ThtiZo7SEx4KyuQUopN\n",
       "2        body  9SRoPuEol0m1G600xf1r\n",
       "3        body  9hOZREUbPNvp00NEUcFh\n",
       "4        body  Ad5uNn7tQ3Z5cDB79IbZ\n",
       "..        ...                   ...\n",
       "331  altitude  WKl6PdTFzLuA4IvfhfOl\n",
       "332  altitude  ezT3IaLSu9cvTM9dYzg6\n",
       "333  altitude  hyNOFBWeewHuT3BZ9kbh\n",
       "334  altitude  pnLcxpjoDJGpvUAh0My8\n",
       "335  altitude  qfrqFIyaA9dqj6zuD2RE\n",
       "\n",
       "[336 rows x 2 columns]"
      ]
     },
     "execution_count": 5,
     "metadata": {},
     "output_type": "execute_result"
    }
   ],
   "source": [
    "fsu = get_fitbit_streams_union()\n",
    "fsu"
   ]
  },
  {
   "cell_type": "markdown",
   "metadata": {},
   "source": [
    "**Fitbit Features Users Count**"
   ]
  },
  {
   "cell_type": "code",
   "execution_count": 13,
   "metadata": {},
   "outputs": [],
   "source": [
    "fsuc = get_fitbit_streams_user_count()\n",
    "fsuc.sort_values(['user_count'], inplace=True)"
   ]
  },
  {
   "cell_type": "code",
   "execution_count": 14,
   "metadata": {},
   "outputs": [
    {
     "data": {
      "text/plain": [
       "<Axes: ylabel='feature'>"
      ]
     },
     "execution_count": 14,
     "metadata": {},
     "output_type": "execute_result"
    },
    {
     "data": {
      "image/png": "[encoded data removed]",
      "text/plain": [
       "<Figure size 640x480 with 1 Axes>"
      ]
     },
     "metadata": {},
     "output_type": "display_data"
    }
   ],
   "source": [
    "fsuc.plot(x='feature', y='user_count', kind='barh')"
   ]
  },
  {
   "cell_type": "markdown",
   "metadata": {},
   "source": [
    "##### Preprocessing Passive Data"
   ]
  },
  {
   "cell_type": "markdown",
   "metadata": {},
   "source": [
    "**Duplicates Removal**"
   ]
  },
  {
   "cell_type": "code",
   "execution_count": 29,
   "metadata": {},
   "outputs": [],
   "source": [
    "source = path_to_og_agg_passive\n",
    "destination = path_to_proc_agg_passive\n",
    "\n",
    "remove_duplicates(src=source, out=destination)"
   ]
  },
  {
   "cell_type": "markdown",
   "metadata": {},
   "source": [
    "**Inconsistencies Resolution**"
   ]
  },
  {
   "cell_type": "code",
   "execution_count": 5,
   "metadata": {},
   "outputs": [
    {
     "name": "stdout",
     "output_type": "stream",
     "text": [
      "Reading file /Volumes/MAVERICK-Script/root/processed-data/passive-data/agg-data/all_distance.csv\n",
      "Reading file /Volumes/MAVERICK-Script/root/processed-data/passive-data/agg-data/all_stairs.csv\n",
      "Reading file /Volumes/MAVERICK-Script/root/processed-data/passive-data/agg-data/all_steps.csv\n",
      "Reading file /Volumes/MAVERICK-Script/root/processed-data/passive-data/agg-data/all_calories.csv\n",
      "Reading file /Volumes/MAVERICK-Script/root/processed-data/passive-data/agg-data/all_activity.csv\n",
      "Reading file /Volumes/MAVERICK-Script/root/processed-data/passive-data/agg-data/all_heart_rate_resting.csv\n",
      "Reading file /Volumes/MAVERICK-Script/root/processed-data/passive-data/agg-data/all_heart_rate_variability.csv\n",
      "Reading file /Volumes/MAVERICK-Script/root/processed-data/passive-data/agg-data/all_heart_rate.csv\n",
      "Reading file /Volumes/MAVERICK-Script/root/processed-data/passive-data/agg-data/all_resp_rate.csv\n",
      "Reading file /Volumes/MAVERICK-Script/root/processed-data/passive-data/agg-data/all_vo2max.csv\n",
      "Reading file /Volumes/MAVERICK-Script/root/processed-data/passive-data/agg-data/all_apple_exercise_time.csv\n",
      "Reading file /Volumes/MAVERICK-Script/root/processed-data/passive-data/agg-data/.DS_Store\n"
     ]
    }
   ],
   "source": [
    "source = path_to_proc_agg_passive\n",
    "destination = path_to_proc_agg_consist_passive\n",
    "\n",
    "resolve_inconsistencies(src=source, out=destination, nummethod='mean', objmethod='mode')"
   ]
  },
  {
   "cell_type": "markdown",
   "metadata": {},
   "source": [
    "**Conceptual Aggregation**"
   ]
  },
  {
   "cell_type": "markdown",
   "metadata": {},
   "source": [
    "*Userwide*"
   ]
  },
  {
   "cell_type": "code",
   "execution_count": 79,
   "metadata": {},
   "outputs": [
    {
     "name": "stdout",
     "output_type": "stream",
     "text": [
      "Saving day files for /Volumes/MAVERICK-Script/root/processed-data/passive-data/concpt-agg-data/usrwide/consist-by-mean_mode/distance\n",
      "Saving dayhalf files for /Volumes/MAVERICK-Script/root/processed-data/passive-data/concpt-agg-data/usrwide/consist-by-mean_mode/distance\n",
      "Saving day files for /Volumes/MAVERICK-Script/root/processed-data/passive-data/concpt-agg-data/usrwide/consist-by-mean_mode/stairs\n",
      "Saving dayhalf files for /Volumes/MAVERICK-Script/root/processed-data/passive-data/concpt-agg-data/usrwide/consist-by-mean_mode/stairs\n",
      "Saving day files for /Volumes/MAVERICK-Script/root/processed-data/passive-data/concpt-agg-data/usrwide/consist-by-mean_mode/steps\n",
      "Saving dayhalf files for /Volumes/MAVERICK-Script/root/processed-data/passive-data/concpt-agg-data/usrwide/consist-by-mean_mode/steps\n",
      "Saving day files for /Volumes/MAVERICK-Script/root/processed-data/passive-data/concpt-agg-data/usrwide/consist-by-mean_mode/calories\n",
      "Saving dayhalf files for /Volumes/MAVERICK-Script/root/processed-data/passive-data/concpt-agg-data/usrwide/consist-by-mean_mode/calories\n",
      "Saving day files for /Volumes/MAVERICK-Script/root/processed-data/passive-data/concpt-agg-data/usrwide/consist-by-mean_mode/activity\n",
      "Saving dayhalf files for /Volumes/MAVERICK-Script/root/processed-data/passive-data/concpt-agg-data/usrwide/consist-by-mean_mode/activity\n",
      "Saving day files for /Volumes/MAVERICK-Script/root/processed-data/passive-data/concpt-agg-data/usrwide/consist-by-mean_mode/heart_rate_resting\n",
      "Saving dayhalf files for /Volumes/MAVERICK-Script/root/processed-data/passive-data/concpt-agg-data/usrwide/consist-by-mean_mode/heart_rate_resting\n",
      "Saving day files for /Volumes/MAVERICK-Script/root/processed-data/passive-data/concpt-agg-data/usrwide/consist-by-mean_mode/heart_rate_variability\n",
      "Saving dayhalf files for /Volumes/MAVERICK-Script/root/processed-data/passive-data/concpt-agg-data/usrwide/consist-by-mean_mode/heart_rate_variability\n",
      "Saving day files for /Volumes/MAVERICK-Script/root/processed-data/passive-data/concpt-agg-data/usrwide/consist-by-mean_mode/heart_rate\n",
      "Saving dayhalf files for /Volumes/MAVERICK-Script/root/processed-data/passive-data/concpt-agg-data/usrwide/consist-by-mean_mode/heart_rate\n",
      "Saving day files for /Volumes/MAVERICK-Script/root/processed-data/passive-data/concpt-agg-data/usrwide/consist-by-mean_mode/resp_rate\n",
      "Saving dayhalf files for /Volumes/MAVERICK-Script/root/processed-data/passive-data/concpt-agg-data/usrwide/consist-by-mean_mode/resp_rate\n",
      "Saving day files for /Volumes/MAVERICK-Script/root/processed-data/passive-data/concpt-agg-data/usrwide/consist-by-mean_mode/vo2max\n",
      "Saving dayhalf files for /Volumes/MAVERICK-Script/root/processed-data/passive-data/concpt-agg-data/usrwide/consist-by-mean_mode/vo2max\n",
      "Saving day files for /Volumes/MAVERICK-Script/root/processed-data/passive-data/concpt-agg-data/usrwide/consist-by-mean_mode/apple_exercise_time\n",
      "Saving dayhalf files for /Volumes/MAVERICK-Script/root/processed-data/passive-data/concpt-agg-data/usrwide/consist-by-mean_mode/apple_exercise_time\n"
     ]
    }
   ],
   "source": [
    "source = path_to_proc_agg_consist_passive\n",
    "destination = path_to_proc_concpt_agg_consist_usrwide_passive\n",
    "\n",
    "conceptual_aggregate(src=source, out=destination, day=True, day_boundary=18, study_span_days=84, clean_existing_results=False, skip_existing_results=False, save_day_half=True)  #path_to_proc_concpt_agg_consist_passive"
   ]
  },
  {
   "cell_type": "markdown",
   "metadata": {},
   "source": [
    "*Userwise*"
   ]
  },
  {
   "cell_type": "code",
   "execution_count": 80,
   "metadata": {},
   "outputs": [],
   "source": [
    "source = path_to_proc_concpt_agg_consist_usrwide_passive\n",
    "destination = path_to_proc_concpt_agg_consist_usrwise_passive\n",
    "\n",
    "split_conceptual_aggregate_for_users(src=source, out=destination, clean_existing_results=False, skip_existing_results=False)"
   ]
  }
 ],
 "metadata": {
  "kernelspec": {
   "display_name": "Python 3",
   "language": "python",
   "name": "python3"
  },
  "language_info": {
   "codemirror_mode": {
    "name": "ipython",
    "version": 3
   },
   "file_extension": ".py",
   "mimetype": "text/x-python",
   "name": "python",
   "nbconvert_exporter": "python",
   "pygments_lexer": "ipython3",
   "version": "3.11.4"
  }
 },
 "nbformat": 4,
 "nbformat_minor": 2
}
